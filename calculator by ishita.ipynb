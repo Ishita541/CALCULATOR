{
 "cells": [
  {
   "cell_type": "code",
   "execution_count": null,
   "metadata": {},
   "outputs": [
    {
     "name": "stdout",
     "output_type": "stream",
     "text": [
      "**********Welcome to my Program**********\n",
      "This code is written by ***ISHITA SHARMA***\n",
      "1.Sum of two numbers\n",
      "2.Subtract two numbers\n",
      "3.Multiply two numbers\n",
      "4.Divide two numbers\n",
      "5.Find percentage\n",
      "6.Find factorial of two numbers\n",
      "7.Exit\n"
     ]
    }
   ],
   "source": [
    "def rec_fun(n):\n",
    "    if n==1:\n",
    "        return n\n",
    "    else:\n",
    "        return n*rec_fun(n-1)\n",
    "while True:\n",
    "    print(\"**********Welcome to my Program**********\")\n",
    "    print(\"This code is written by ***ISHITA SHARMA***\")\n",
    "    print(\"1.Sum of two numbers\")\n",
    "    print(\"2.Subtract two numbers\")\n",
    "    print(\"3.Multiply two numbers\")  \n",
    "    print(\"4.Divide two numbers\") \n",
    "    print(\"5.Find percentage\")\n",
    "    print(\"6.Find factorial of two numbers\") \n",
    "    print(\"7.Exit\")\n",
    "    choice=int(input(\"Enter your choice:\"))\n",
    "    if choice==1:\n",
    "        firstno=int(input(\"Enter 1st number:\"))\n",
    "        secondno=int(input(\"Enter 2nd number:\"))\n",
    "        print(\"Sum of two numbers\",firstno+secondno)\n",
    "    \n",
    "    elif choice==2:\n",
    "        firstno=int(input(\"Enter 1st number:\"))\n",
    "        secondno=int(input(\"Enter 2nd number:\"))\n",
    "        print(\"Subtract two numbers\",firstno-secondno)\n",
    "        \n",
    "    elif choice==3:\n",
    "        firstno=int(input(\"Enter 1st number:\"))\n",
    "        secondno=int(input(\"Enter 2nd number:\"))\n",
    "        print(\"Multiply two numbers\",firstno*secondno)\n",
    "        \n",
    "    elif choice==4:\n",
    "        try:\n",
    "            x=int(input(\"Enter 1st number:\"))\n",
    "            y=int(input(\"Enter 2nd number:\"))\n",
    "            print(\"Divide two numbers\",x/y)\n",
    "        except Exception:\n",
    "            print(\"Cannot divide by zero\")\n",
    "            print(Exception)\n",
    "            \n",
    "    elif choice==5:\n",
    "        print(\"Welcome to class 10th\")\n",
    "        print(\"Marks will be evaluated out of 100\")\n",
    "        a=int(input(\"Enter the maths marks:\"))\n",
    "        b=int(input(\"Enter the english marks:\"))\n",
    "        c=int(input(\"Enter the science marks:\"))\n",
    "        d=int(input(\"Enter the social studies marks:\"))\n",
    "        total=a+b+c+d\n",
    "        print(\"percentage of the student\",(total/400)*100)\n",
    "        \n",
    "    elif choice==6:\n",
    "        num=int(input(\"Enter the numeric number:\"))\n",
    "        if num==0:\n",
    "            print(\"factorial of 0 is 1\")\n",
    "        elif num<0:\n",
    "            print(\"factorial is not exist for negative numbers\")\n",
    "        else:\n",
    "            print(\"The factorial of\", num,\"is\",rec_fun(num))\n",
    "             \n",
    "    elif choice==7:\n",
    "        break\n",
    "    else:\n",
    "        print(\"Wrong Choice\")"
   ]
  },
  {
   "cell_type": "code",
   "execution_count": null,
   "metadata": {},
   "outputs": [],
   "source": []
  }
 ],
 "metadata": {
  "kernelspec": {
   "display_name": "Python 3",
   "language": "python",
   "name": "python3"
  },
  "language_info": {
   "codemirror_mode": {
    "name": "ipython",
    "version": 3
   },
   "file_extension": ".py",
   "mimetype": "text/x-python",
   "name": "python",
   "nbconvert_exporter": "python",
   "pygments_lexer": "ipython3",
   "version": "3.8.5"
  }
 },
 "nbformat": 4,
 "nbformat_minor": 4
}
